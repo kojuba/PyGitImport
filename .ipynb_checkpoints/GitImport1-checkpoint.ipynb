{
 "cells": [
  {
   "cell_type": "code",
   "execution_count": 1,
   "metadata": {
    "collapsed": true
   },
   "outputs": [],
   "source": [
    "import requests"
   ]
  },
  {
   "cell_type": "code",
   "execution_count": null,
   "metadata": {
    "collapsed": true
   },
   "outputs": [],
   "source": [
    "ClientID = 'e707c89fbd26cc923497'\n",
    "ClientSecret = '6f2c75e008b480f32d72eec5a55b4bc3175a218e' "
   ]
  },
  {
   "cell_type": "code",
   "execution_count": 4,
   "metadata": {
    "collapsed": true
   },
   "outputs": [],
   "source": [
    "class GitHub(object):\n",
    "    def __init__(self, **config_options):\n",
    "        self.__dict__.update(**config_options)\n",
    "        self.session = requests.Session()\n",
    "        if hasattr(self, 'api_token'):\n",
    "           self.session.headers['Authorization'] = 'token %s' % self.api_token\n",
    "        elif hasattr(self, 'username') and hasattr(self, 'password'):\n",
    "           self.session.auth = (self.username, self.password)\n",
    "\n",
    "    def call_to_the_api(self,url, *args):\n",
    "        # do stuff with args\n",
    "        return self.session.get(url)"
   ]
  },
  {
   "cell_type": "code",
   "execution_count": 5,
   "metadata": {
    "collapsed": true
   },
   "outputs": [],
   "source": [
    "gh = GitHub(username='kojuba',password='TribeKojuba15!')"
   ]
  },
  {
   "cell_type": "code",
   "execution_count": null,
   "metadata": {
    "collapsed": true
   },
   "outputs": [],
   "source": [
    "url = \n",
    "gh.call_to_the_api(url)"
   ]
  },
  {
   "cell_type": "code",
   "execution_count": 14,
   "metadata": {
    "collapsed": false
   },
   "outputs": [],
   "source": [
    "import requests\n",
    "\n",
    "URL = 'https://raw.githubusercontent.com/jrolf/JStore/master/jstore.py'\n",
    "URL = 'https://raw.githubusercontent.com/kojuba/KojubaGAE/master/MySQLdbOps6.py'\n",
    "\n",
    "r = requests.get(URL, auth=('kojuba','TribeKojuba15!')) "
   ]
  },
  {
   "cell_type": "code",
   "execution_count": 16,
   "metadata": {
    "collapsed": false
   },
   "outputs": [
    {
     "data": {
      "text/plain": [
       "<requests.packages.urllib3.response.HTTPResponse at 0x106f971d0>"
      ]
     },
     "execution_count": 16,
     "metadata": {},
     "output_type": "execute_result"
    }
   ],
   "source": [
    "r.raw"
   ]
  },
  {
   "cell_type": "code",
   "execution_count": null,
   "metadata": {
    "collapsed": true
   },
   "outputs": [],
   "source": []
  },
  {
   "cell_type": "code",
   "execution_count": null,
   "metadata": {
    "collapsed": true
   },
   "outputs": [],
   "source": []
  },
  {
   "cell_type": "code",
   "execution_count": null,
   "metadata": {
    "collapsed": true
   },
   "outputs": [],
   "source": []
  },
  {
   "cell_type": "code",
   "execution_count": null,
   "metadata": {
    "collapsed": true
   },
   "outputs": [],
   "source": []
  },
  {
   "cell_type": "code",
   "execution_count": null,
   "metadata": {
    "collapsed": true
   },
   "outputs": [],
   "source": []
  }
 ],
 "metadata": {
  "anaconda-cloud": {},
  "kernelspec": {
   "display_name": "Python [default]",
   "language": "python",
   "name": "python2"
  },
  "language_info": {
   "codemirror_mode": {
    "name": "ipython",
    "version": 2
   },
   "file_extension": ".py",
   "mimetype": "text/x-python",
   "name": "python",
   "nbconvert_exporter": "python",
   "pygments_lexer": "ipython2",
   "version": "2.7.12"
  }
 },
 "nbformat": 4,
 "nbformat_minor": 1
}
