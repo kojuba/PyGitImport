{
 "cells": [
  {
   "cell_type": "code",
   "execution_count": 1,
   "metadata": {
    "collapsed": true
   },
   "outputs": [],
   "source": [
    "import requests"
   ]
  },
  {
   "cell_type": "code",
   "execution_count": null,
   "metadata": {
    "collapsed": true
   },
   "outputs": [],
   "source": [
    "ClientID = 'e707c89fbd26cc923497'\n",
    "ClientSecret = '6f2c75e008b480f32d72eec5a55b4bc3175a218e' "
   ]
  },
  {
   "cell_type": "code",
   "execution_count": 4,
   "metadata": {
    "collapsed": true
   },
   "outputs": [],
   "source": [
    "class GitHub(object):\n",
    "    def __init__(self, **config_options):\n",
    "        self.__dict__.update(**config_options)\n",
    "        self.session = requests.Session()\n",
    "        if hasattr(self, 'api_token'):\n",
    "           self.session.headers['Authorization'] = 'token %s' % self.api_token\n",
    "        elif hasattr(self, 'username') and hasattr(self, 'password'):\n",
    "           self.session.auth = (self.username, self.password)\n",
    "\n",
    "    def call_to_the_api(self,url, *args):\n",
    "        # do stuff with args\n",
    "        return self.session.get(url) "
   ]
  },
  {
   "cell_type": "code",
   "execution_count": 5,
   "metadata": {
    "collapsed": true
   },
   "outputs": [],
   "source": [
    "gh = GitHub(username='kojuba',password='TribeKojuba15!')"
   ]
  },
  {
   "cell_type": "code",
   "execution_count": null,
   "metadata": {
    "collapsed": true
   },
   "outputs": [],
   "source": [
    "url = \n",
    "gh.call_to_the_api(url)"
   ]
  },
  {
   "cell_type": "code",
   "execution_count": 25,
   "metadata": {
    "collapsed": false
   },
   "outputs": [],
   "source": [
    "import requests\n",
    "\n",
    "URL = 'https://raw.githubusercontent.com/jrolf/JStore/master/jstore.py'\n",
    "#URL = 'https://raw.githubusercontent.com/kojuba/KojubaGAE/master/MySQLdbOps6.py'\n",
    "# URL = BasePath+UserName+RepoName+BranchName+FilePath\n",
    "\n",
    "r = requests.get(URL, auth=('kojuba','TribeKojuba15!')) "
   ]
  },
  {
   "cell_type": "code",
   "execution_count": 26,
   "metadata": {
    "collapsed": false
   },
   "outputs": [
    {
     "data": {
      "text/plain": [
       "'\\nimport os \\n\\nJPREFIX  = \\'DATA\\'\\nJSUFFIX  = \\'.json\\'      \\n\\n########################################################\\n########################################################\\n\\n# Makes Output Lines for Saving a JSON File:\\ndef MakeJLines(Obj,Spaces=4):\\n    S = str(Obj).replace(\"\\'\",\\'\"\\')\\n    Rows = []\\n    I = [0] # Indentation List\\n    Struct  = []\\n    row     = \\'\\'\\n    for ch in S:\\n        if not str(row+ch).strip(): continue\\n        if   ch==\\'[\\':\\n            I.append(len(row)+1)\\n            Struct.append(\\'L\\')\\n        elif ch==\\'{\\':\\n            I.append(len(row)+1)\\n            Struct.append(\\'D\\')\\n        elif ch==\\']\\':\\n            x = I.pop()\\n            x = Struct.pop()\\n        elif ch==\\'}\\':\\n            x = I.pop()\\n            x = Struct.pop()  \\n        elif ch==\\',\\':\\n            row = row+ch\\n            Rows.append(row)\\n            row = \\' \\'*I[-1]\\n            continue\\n        row += ch\\n    Rows.append(row)\\n    return Rows      \\n        \\n# \\'Read()\\' takes all the lines of a text file,\\n# converts them to strings, and returns a list of these strings.\\n# File must be named explicitly: \\'/Users/jarolfsen/Desktop/WLT.txt\\'\\ndef Read(FILE):\\n    rawfilelist = open(FILE,\\'rt\\').readlines()\\n    filelist = [i[:-1].strip() for i in rawfilelist]\\n    return filelist\\n\\n# \\'WriteOver()\\' overwrites a whole file with a list.\\ndef Write(FILE,LIST):\\n    path = GetPath(FILE)\\n    if path: EnsurePath(path) \\n    List = [str(i)+\\'\\\\n\\' for i in LIST]\\n    open(FILE,\\'wt\\').writelines(List) \\n    \\ndef read_json(fn):\\n    Lines = Read(fn)\\n    String = \\'\\'.join(Lines)\\n    return eval(String) \\n\\ndef write_json(fn,data):\\n    Write(fn,MakeJLines(data)) \\n\\n\\n########################################################\\n########################################################\\n\\ndef GetPath(String):  \\n    if \\'/\\' not in String: \\n        if \\'.\\' in String: return \\'\\'\\n        else: return String \\n    L = String.split(\\'/\\')\\n    if \\'.\\' not in L[-1]: \\n        if \\'/\\' != String[-1]: return String+\\'/\\'\\n        else: return String\\n    String2 = \\'/\\'.join(L[:-1]) + \\'/\\'\\n    return String2 \\n\\n# Create a path if it doesn\\'t exist:\\ndef EnsurePath(path):\\n    if not os.path.exists(path):\\n        os.makedirs(path)\\n    \\n\\n########################################################\\n########################################################\\n\\ndef PullFromAPI(ThingID):\\n    return {}  \\n\\ndef PullFromDir(thing_id,dirname=\\'\\',suffix=\\'\\'):\\n    if not suffix: suffix = JSUFFIX\\n    if not dirname: dirname = JPREFIX\\n    if dirname and dirname[-1] != \\'/\\': dirname+=\\'/\\'\\n    fn = dirname+thing+suffix \\n    return read_json(fn) \\n\\ndef ConditionalPull(thing_id,dirname=\\'\\'):  \\n    try:    J = PullFromDir(thing,suffix,dirname)\\n    except: J = PullFromAPI(thing)\\n    return  J  \\n\\ndef ThingIsThere(Thing,There):\\n    path = GetPath(There)+Thing  \\n    return os.path.exists(path)  \\n\\ndef PullOverwrite():\\n    pass\\n\\ndef PullAdd():\\n    pass\\n        \\n########################################################\\n########################################################\\n\\n\\n\\n'"
      ]
     },
     "execution_count": 26,
     "metadata": {},
     "output_type": "execute_result"
    }
   ],
   "source": [
    "r.content"
   ]
  },
  {
   "cell_type": "code",
   "execution_count": 27,
   "metadata": {
    "collapsed": true
   },
   "outputs": [],
   "source": [
    "rows = [a.replace(\"\\\\\",'') for a in r.content.split('\\n')]"
   ]
  },
  {
   "cell_type": "code",
   "execution_count": 28,
   "metadata": {
    "collapsed": false
   },
   "outputs": [
    {
     "name": "stdout",
     "output_type": "stream",
     "text": [
      "['']\n",
      "['import os ']\n",
      "['']\n",
      "[\"JPREFIX  = 'DATA'\"]\n",
      "[\"JSUFFIX  = '.json'      \"]\n",
      "['']\n",
      "['########################################################']\n",
      "['########################################################']\n",
      "['']\n",
      "['# Makes Output Lines for Saving a JSON File:']\n",
      "['def MakeJLines(Obj,Spaces=4):']\n",
      "['    S = str(Obj).replace(\"\\'\",\\'\"\\')']\n",
      "['    Rows = []']\n",
      "['    I = [0] # Indentation List']\n",
      "['    Struct  = []']\n",
      "[\"    row     = ''\"]\n",
      "['    for ch in S:']\n",
      "['        if not str(row+ch).strip(): continue']\n",
      "[\"        if   ch=='[':\"]\n",
      "['            I.append(len(row)+1)']\n",
      "[\"            Struct.append('L')\"]\n",
      "[\"        elif ch=='{':\"]\n",
      "['            I.append(len(row)+1)']\n",
      "[\"            Struct.append('D')\"]\n",
      "[\"        elif ch==']':\"]\n",
      "['            x = I.pop()']\n",
      "['            x = Struct.pop()']\n",
      "[\"        elif ch=='}':\"]\n",
      "['            x = I.pop()']\n",
      "['            x = Struct.pop()  ']\n",
      "[\"        elif ch==',':\"]\n",
      "['            row = row+ch']\n",
      "['            Rows.append(row)']\n",
      "[\"            row = ' '*I[-1]\"]\n",
      "['            continue']\n",
      "['        row += ch']\n",
      "['    Rows.append(row)']\n",
      "['    return Rows      ']\n",
      "['        ']\n",
      "[\"# 'Read()' takes all the lines of a text file,\"]\n",
      "['# converts them to strings, and returns a list of these strings.']\n",
      "[\"# File must be named explicitly: '/Users/jarolfsen/Desktop/WLT.txt'\"]\n",
      "['def Read(FILE):']\n",
      "[\"    rawfilelist = open(FILE,'rt').readlines()\"]\n",
      "['    filelist = [i[:-1].strip() for i in rawfilelist]']\n",
      "['    return filelist']\n",
      "['']\n",
      "[\"# 'WriteOver()' overwrites a whole file with a list.\"]\n",
      "['def Write(FILE,LIST):']\n",
      "['    path = GetPath(FILE)']\n",
      "['    if path: EnsurePath(path) ']\n",
      "[\"    List = [str(i)+'n' for i in LIST]\"]\n",
      "[\"    open(FILE,'wt').writelines(List) \"]\n",
      "['    ']\n",
      "['def read_json(fn):']\n",
      "['    Lines = Read(fn)']\n",
      "[\"    String = ''.join(Lines)\"]\n",
      "['    return eval(String) ']\n",
      "['']\n",
      "['def write_json(fn,data):']\n",
      "['    Write(fn,MakeJLines(data)) ']\n",
      "['']\n",
      "['']\n",
      "['########################################################']\n",
      "['########################################################']\n",
      "['']\n",
      "['def GetPath(String):  ']\n",
      "[\"    if '/' not in String: \"]\n",
      "[\"        if '.' in String: return ''\"]\n",
      "['        else: return String ']\n",
      "[\"    L = String.split('/')\"]\n",
      "[\"    if '.' not in L[-1]: \"]\n",
      "[\"        if '/' != String[-1]: return String+'/'\"]\n",
      "['        else: return String']\n",
      "[\"    String2 = '/'.join(L[:-1]) + '/'\"]\n",
      "['    return String2 ']\n",
      "['']\n",
      "[\"# Create a path if it doesn't exist:\"]\n",
      "['def EnsurePath(path):']\n",
      "['    if not os.path.exists(path):']\n",
      "['        os.makedirs(path)']\n",
      "['    ']\n",
      "['']\n",
      "['########################################################']\n",
      "['########################################################']\n",
      "['']\n",
      "['def PullFromAPI(ThingID):']\n",
      "['    return {}  ']\n",
      "['']\n",
      "[\"def PullFromDir(thing_id,dirname='',suffix=''):\"]\n",
      "['    if not suffix: suffix = JSUFFIX']\n",
      "['    if not dirname: dirname = JPREFIX']\n",
      "[\"    if dirname and dirname[-1] != '/': dirname+='/'\"]\n",
      "['    fn = dirname+thing+suffix ']\n",
      "['    return read_json(fn) ']\n",
      "['']\n",
      "[\"def ConditionalPull(thing_id,dirname=''):  \"]\n",
      "['    try:    J = PullFromDir(thing,suffix,dirname)']\n",
      "['    except: J = PullFromAPI(thing)']\n",
      "['    return  J  ']\n",
      "['']\n",
      "['def ThingIsThere(Thing,There):']\n",
      "['    path = GetPath(There)+Thing  ']\n",
      "['    return os.path.exists(path)  ']\n",
      "['']\n",
      "['def PullOverwrite():']\n",
      "['    pass']\n",
      "['']\n",
      "['def PullAdd():']\n",
      "['    pass']\n",
      "['        ']\n",
      "['########################################################']\n",
      "['########################################################']\n",
      "['']\n",
      "['']\n",
      "['']\n",
      "['']\n"
     ]
    }
   ],
   "source": [
    "for row in rows: print [row]"
   ]
  },
  {
   "cell_type": "code",
   "execution_count": null,
   "metadata": {
    "collapsed": true
   },
   "outputs": [],
   "source": []
  },
  {
   "cell_type": "code",
   "execution_count": null,
   "metadata": {
    "collapsed": true
   },
   "outputs": [],
   "source": []
  },
  {
   "cell_type": "code",
   "execution_count": null,
   "metadata": {
    "collapsed": true
   },
   "outputs": [],
   "source": []
  }
 ],
 "metadata": {
  "anaconda-cloud": {},
  "kernelspec": {
   "display_name": "Python [default]",
   "language": "python",
   "name": "python2"
  },
  "language_info": {
   "codemirror_mode": {
    "name": "ipython",
    "version": 2
   },
   "file_extension": ".py",
   "mimetype": "text/x-python",
   "name": "python",
   "nbconvert_exporter": "python",
   "pygments_lexer": "ipython2",
   "version": "2.7.12"
  }
 },
 "nbformat": 4,
 "nbformat_minor": 1
}
