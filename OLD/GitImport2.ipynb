{
 "cells": [
  {
   "cell_type": "code",
   "execution_count": 1,
   "metadata": {
    "collapsed": true
   },
   "outputs": [],
   "source": [
    "from GitImport import * "
   ]
  },
  {
   "cell_type": "code",
   "execution_count": 2,
   "metadata": {
    "collapsed": true
   },
   "outputs": [],
   "source": [
    "#####################################################\n",
    "#####################################################"
   ]
  },
  {
   "cell_type": "code",
   "execution_count": null,
   "metadata": {
    "collapsed": true
   },
   "outputs": [],
   "source": [
    "# Objective:\n",
    "#    The purpose of this file is to make it easy to import python\n",
    "#    files and functions that exist in a GitHub repository.\n",
    "#    By doing so,imports can be more modular and less dependent\n",
    "#    on hard-code files being present and up-to-date."
   ]
  },
  {
   "cell_type": "code",
   "execution_count": 3,
   "metadata": {
    "collapsed": true
   },
   "outputs": [],
   "source": [
    "USER,PASS = '',''\n",
    "FilePath = 'kojuba/PyGitImport/Functions/TestFuncs.py' "
   ]
  },
  {
   "cell_type": "code",
   "execution_count": 4,
   "metadata": {
    "collapsed": true
   },
   "outputs": [],
   "source": [
    "# Normally, the flow will look like this:\n",
    "gi = GitImport(USER,PASS)\n",
    "CS1 = gi.Import(FilePath)\n",
    "exec(CS1)  "
   ]
  },
  {
   "cell_type": "code",
   "execution_count": 5,
   "metadata": {
    "collapsed": true
   },
   "outputs": [],
   "source": [
    "# Or to execute only ONE function looks like this:\n",
    "gi = GitImport(USER,PASS)\n",
    "gi.ParseFuncs(FilePath)\n",
    "CS2 = gi.GetFuncString('add2') \n",
    "exec(CS2)  "
   ]
  },
  {
   "cell_type": "code",
   "execution_count": 6,
   "metadata": {
    "collapsed": false
   },
   "outputs": [
    {
     "data": {
      "text/plain": [
       "7"
      ]
     },
     "execution_count": 6,
     "metadata": {},
     "output_type": "execute_result"
    }
   ],
   "source": [
    "# Test Function:\n",
    "add2(5)"
   ]
  },
  {
   "cell_type": "code",
   "execution_count": 7,
   "metadata": {
    "collapsed": true
   },
   "outputs": [],
   "source": [
    "#####################################################\n",
    "#####################################################"
   ]
  },
  {
   "cell_type": "code",
   "execution_count": 8,
   "metadata": {
    "collapsed": false
   },
   "outputs": [],
   "source": [
    "# Let's break this down... \n",
    "\n",
    "# Create a GitImport Object:\n",
    "gi = GitImport()\n",
    "\n",
    "# Optional: Login to Git with Credentials:\n",
    "USER,PASS = '',''\n",
    "gi.SaveAuth(USER,PASS)\n",
    "\n",
    "# Optional: Change Base URL Path:\n",
    "BaseURL = 'https://raw.githubusercontent.com'\n",
    "gi.SetBasePath(BaseURL)\n",
    "\n",
    "# Define File Path in GitHub:\n",
    "FilePath = 'kojuba/PyGitImport/Functions/TestFuncs.py'\n",
    "\n",
    "# Import Code-String from File:\n",
    "CS = gi.Import(FilePath)  \n",
    "\n",
    "# Parse Functions:\n",
    "gi.ParseFuncs()\n",
    "\n",
    "# Get List of Function Names:\n",
    "FuncNames = gi.GetFuncNames()  \n",
    "\n",
    "# Execute Code-String:\n",
    "exec(CS)"
   ]
  },
  {
   "cell_type": "code",
   "execution_count": 9,
   "metadata": {
    "collapsed": false
   },
   "outputs": [
    {
     "data": {
      "text/plain": [
       "12"
      ]
     },
     "execution_count": 9,
     "metadata": {},
     "output_type": "execute_result"
    }
   ],
   "source": [
    "# Test a function from the file:\n",
    "times3(4)"
   ]
  },
  {
   "cell_type": "code",
   "execution_count": 10,
   "metadata": {
    "collapsed": true
   },
   "outputs": [],
   "source": [
    "# Yayyy! It works!! "
   ]
  },
  {
   "cell_type": "code",
   "execution_count": 11,
   "metadata": {
    "collapsed": true
   },
   "outputs": [],
   "source": [
    "#####################################################\n",
    "#####################################################"
   ]
  },
  {
   "cell_type": "code",
   "execution_count": 12,
   "metadata": {
    "collapsed": false
   },
   "outputs": [
    {
     "name": "stdout",
     "output_type": "stream",
     "text": [
      "https://raw.githubusercontent.com/kojuba/PyGitImport/master/Functions/TestFuncs.py\n"
     ]
    }
   ],
   "source": [
    "# Lets Look at the URL that was scraped:\n",
    "print gi.URL"
   ]
  },
  {
   "cell_type": "code",
   "execution_count": 13,
   "metadata": {
    "collapsed": false
   },
   "outputs": [
    {
     "data": {
      "text/plain": [
       "\"\\nimport time\\nimport math\\nimport numpy as np\\nimport pandas as pd\\n\\n##########################################################\\n\\ndef add2(num):\\n    return num+2\\n\\n# Caps a value off if it exceeds Min and Max Values:\\ndef Bound(Min,Value,Max):\\n    a = max(Min,Value)\\n    b = min(a,Max)\\n    return b\\n\\ndef times3(num):\\n    return num*3 \\n\\n# Returns the analogous number between limits of 'A' and 'B'\\n# that correlates with 'n's position between 'a' and 'b'.\\n# Analogy:  [A < N < B] : [a < n < b]\\n# Procedure: having 'n', return 'N':\\ndef MAP(A,B,a,b,n):\\n    DIF = B-A\\n    dif = b-a\\n    mar = (n-a)/float(dif)\\n    N = A+(DIF*mar)\\n    return N\\n\\ndef Pause(seconds):\\n    time.sleep(seconds)\\n\\n########################################################## \\n\""
      ]
     },
     "execution_count": 13,
     "metadata": {},
     "output_type": "execute_result"
    }
   ],
   "source": [
    "# Let's look at the Code-String:\n",
    "CS"
   ]
  },
  {
   "cell_type": "code",
   "execution_count": 14,
   "metadata": {
    "collapsed": false
   },
   "outputs": [
    {
     "data": {
      "text/plain": [
       "['Bound', 'MAP', 'Pause', 'add2', 'imports', 'times3']"
      ]
     },
     "execution_count": 14,
     "metadata": {},
     "output_type": "execute_result"
    }
   ],
   "source": [
    "# Let's look at the function names:\n",
    "gi.GetFuncNames()  "
   ]
  },
  {
   "cell_type": "code",
   "execution_count": 15,
   "metadata": {
    "collapsed": false
   },
   "outputs": [
    {
     "name": "stdout",
     "output_type": "stream",
     "text": [
      "import time\n",
      "import math\n",
      "import numpy as np\n",
      "import pandas as pd\n"
     ]
    }
   ],
   "source": [
    "# Lets look at the imports:\n",
    "gi.PrintFunc('imports')"
   ]
  },
  {
   "cell_type": "code",
   "execution_count": 16,
   "metadata": {
    "collapsed": false
   },
   "outputs": [
    {
     "name": "stdout",
     "output_type": "stream",
     "text": [
      "def Bound(Min,Value,Max):\n",
      "    a = max(Min,Value)\n",
      "    b = min(a,Max)\n",
      "    return b\n"
     ]
    }
   ],
   "source": [
    "# Lets look at the 'Bound' function:\n",
    "gi.PrintFunc('Bound')"
   ]
  },
  {
   "cell_type": "code",
   "execution_count": 17,
   "metadata": {
    "collapsed": true
   },
   "outputs": [],
   "source": [
    "# Let's execute the import statements and the 'Bound' function:\n",
    "exec(gi.GetFuncString('imports'))\n",
    "exec(gi.GetFuncString('Bound'))"
   ]
  },
  {
   "cell_type": "code",
   "execution_count": 18,
   "metadata": {
    "collapsed": false
   },
   "outputs": [
    {
     "data": {
      "text/plain": [
       "10"
      ]
     },
     "execution_count": 18,
     "metadata": {},
     "output_type": "execute_result"
    }
   ],
   "source": [
    "# Test the function:\n",
    "Bound(0,17,10)"
   ]
  },
  {
   "cell_type": "code",
   "execution_count": 19,
   "metadata": {
    "collapsed": false
   },
   "outputs": [
    {
     "name": "stdout",
     "output_type": "stream",
     "text": [
      "10\n"
     ]
    }
   ],
   "source": [
    "# This is basically how things work:\n",
    "L = ['def Add7(num):','    return num+7']\n",
    "exec('\\n'.join(L))\n",
    "print Add7(3)"
   ]
  },
  {
   "cell_type": "code",
   "execution_count": 20,
   "metadata": {
    "collapsed": false
   },
   "outputs": [],
   "source": [
    "#####################################################\n",
    "#####################################################"
   ]
  },
  {
   "cell_type": "code",
   "execution_count": 21,
   "metadata": {
    "collapsed": false
   },
   "outputs": [],
   "source": [
    "# Let's pull code from somewhere else:\n",
    "path = 'asweigart/codebreaker/freqAnalysis.py'"
   ]
  },
  {
   "cell_type": "code",
   "execution_count": 22,
   "metadata": {
    "collapsed": false
   },
   "outputs": [],
   "source": [
    "gi = GitImport()\n",
    "gi.PullRows(path) \n",
    "gi.ParseFuncs()\n",
    "exec(gi.Import(path)) "
   ]
  },
  {
   "cell_type": "code",
   "execution_count": 23,
   "metadata": {
    "collapsed": false
   },
   "outputs": [
    {
     "name": "stdout",
     "output_type": "stream",
     "text": [
      "https://raw.githubusercontent.com/asweigart/codebreaker/master/freqAnalysis.py\n"
     ]
    }
   ],
   "source": [
    "print gi.URL"
   ]
  },
  {
   "cell_type": "code",
   "execution_count": 24,
   "metadata": {
    "collapsed": false
   },
   "outputs": [
    {
     "data": {
      "text/plain": [
       "['englishFreqMatchScore',\n",
       " 'getFrequencyOrder',\n",
       " 'getItemAtIndexZero',\n",
       " 'getLetterCount']"
      ]
     },
     "execution_count": 24,
     "metadata": {},
     "output_type": "execute_result"
    }
   ],
   "source": [
    "gi.GetFuncNames()"
   ]
  },
  {
   "cell_type": "code",
   "execution_count": 25,
   "metadata": {
    "collapsed": false
   },
   "outputs": [
    {
     "name": "stdout",
     "output_type": "stream",
     "text": [
      "def getLetterCount(message):\r\n",
      "    # Returns a dictionary with keys of single letters and values of the\r\n",
      "    # count of how many times they appear in the message parameter.\r\n",
      "    letterCount = {'A': 0, 'B': 0, 'C': 0, 'D': 0, 'E': 0, 'F': 0, 'G': 0, 'H': 0, 'I': 0, 'J': 0, 'K': 0, 'L': 0, 'M': 0, 'N': 0, 'O': 0, 'P': 0, 'Q': 0, 'R': 0, 'S': 0, 'T': 0, 'U': 0, 'V': 0, 'W': 0, 'X': 0, 'Y': 0, 'Z': 0}\r\n",
      "    for letter in message.upper():\r\n",
      "        if letter in LETTERS:\r\n",
      "            letterCount[letter] += 1\r\n",
      "    return letterCount\r\n"
     ]
    }
   ],
   "source": [
    "gi.PrintFunc('getLetterCount')"
   ]
  },
  {
   "cell_type": "code",
   "execution_count": 26,
   "metadata": {
    "collapsed": false
   },
   "outputs": [],
   "source": [
    "S = 'hauhlieunjqsdijnzjncjsksnedliunwe,kdjniuw'\n",
    "counts = getLetterCount(S) "
   ]
  },
  {
   "cell_type": "code",
   "execution_count": 27,
   "metadata": {
    "collapsed": false
   },
   "outputs": [
    {
     "data": {
      "text/plain": [
       "{'A': 1,\n",
       " 'B': 0,\n",
       " 'C': 1,\n",
       " 'D': 3,\n",
       " 'E': 3,\n",
       " 'F': 0,\n",
       " 'G': 0,\n",
       " 'H': 2,\n",
       " 'I': 4,\n",
       " 'J': 5,\n",
       " 'K': 2,\n",
       " 'L': 2,\n",
       " 'M': 0,\n",
       " 'N': 6,\n",
       " 'O': 0,\n",
       " 'P': 0,\n",
       " 'Q': 1,\n",
       " 'R': 0,\n",
       " 'S': 3,\n",
       " 'T': 0,\n",
       " 'U': 4,\n",
       " 'V': 0,\n",
       " 'W': 2,\n",
       " 'X': 0,\n",
       " 'Y': 0,\n",
       " 'Z': 1}"
      ]
     },
     "execution_count": 27,
     "metadata": {},
     "output_type": "execute_result"
    }
   ],
   "source": [
    "counts "
   ]
  }
 ],
 "metadata": {
  "kernelspec": {
   "display_name": "Python [default]",
   "language": "python",
   "name": "python2"
  },
  "language_info": {
   "codemirror_mode": {
    "name": "ipython",
    "version": 2
   },
   "file_extension": ".py",
   "mimetype": "text/x-python",
   "name": "python",
   "nbconvert_exporter": "python",
   "pygments_lexer": "ipython2",
   "version": "2.7.12"
  }
 },
 "nbformat": 4,
 "nbformat_minor": 1
}
